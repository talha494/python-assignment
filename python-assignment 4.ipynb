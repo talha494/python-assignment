{
 "cells": [
  {
   "cell_type": "code",
   "execution_count": 1,
   "metadata": {},
   "outputs": [
    {
     "name": "stdout",
     "output_type": "stream",
     "text": [
      "{'name': 'john', 'lastname': 'smith', 'age': '23', 'city': 'newyork', 'qualification': 'B.A'}\n",
      "{'name': 'john', 'lastname': 'smith', 'age': '23', 'city': 'newyork'}\n"
     ]
    }
   ],
   "source": [
    "\n",
    "# Assignment4.Q.1 ---------end   here--->\n",
    "\n",
    "\n",
    "# Assignment4.Q.1 ---------update---here--->\n",
    "\n",
    "person = {\n",
    "    \"name\": \"john\",\n",
    "    \"lastname\" : \"smith\",\n",
    "     \"age\":\"23\",\n",
    "     \"city\":\"newyork\",\n",
    "     \"qualification\":\"12th\"\n",
    "}\n",
    "person [\"qualification\"] = \"B.A\"\n",
    "print(person)\n",
    "\n",
    "# Assignment4.Q.1 ---------update----end---here---->\n",
    "\n",
    "# Assignmnet4.Q.1---------delete----start----->\n",
    "person = {\n",
    "    \"name\": \"john\",\n",
    "    \"lastname\" : \"smith\",\n",
    "     \"age\":\"23\",\n",
    "     \"city\":\"newyork\",\n",
    "     \"qualification\":\"12th stadard\"\n",
    "}\n",
    "del person [\"qualification\"]\n",
    "print(person)\n",
    "\n",
    "# Assignmnet4.Q.1---------delete----start----->"
   ]
  },
  {
   "cell_type": "code",
   "execution_count": 3,
   "metadata": {},
   "outputs": [
    {
     "name": "stdout",
     "output_type": "stream",
     "text": [
      "{'karachi': {'country': 'pakistan', 'approxcimat papulation': '15,741,000 Growth rate 2.21% (2019)', 'fact': 'karachi is more then 4 times the size of new york city(in therms of city proper)'}, 'istanbul': {'country': 'turkey', 'approxcimate population': '15.07 million', 'fact': 'isanbul is the only city in the world which is both in Europe and Asia  Geographically'}, 'newyork': {'country': 'america', 'approxcimate population': '8,398,748 (2019)', 'fact': 'New York City Is The Largest City Of United States'}}\n"
     ]
    }
   ],
   "source": [
    "#Assignment4 Q.2 information about cities fact and population of  Diffrent Countries of Cities---Sart-----Here--->\n",
    "cities = {\n",
    "    \n",
    "    # population and  one fact of karachi--> \n",
    "     #..........................................\n",
    "   \"karachi\":{\n",
    "        \"country\":\"pakistan\",\n",
    "        \"approxcimat papulation\": \"15,741,000 Growth rate 2.21% (2019)\",\n",
    "        \"fact\":\"karachi is more then 4 times the size of new york city(in therms of city proper)\"\n",
    "    },\n",
    "     # population and  one fact of karachi-->\n",
    "     #..........................................\n",
    "                            # population and  one fact of istanbul--->\n",
    "    \"istanbul\":{\n",
    "        \"country\":\"turkey\",\n",
    "        \"approxcimate population\":\"15.07 million\",\n",
    "        \"fact\":\"isanbul is the only city in the world which is both in Europe and Asia  Geographically\",\n",
    "    },\n",
    "                             # population and  one fact of istanbul--->\n",
    "     #..........................................\n",
    "     # population and  one fact of Newyork---> \n",
    "    \"newyork\":{\n",
    "        \"country\":\"america\",\n",
    "        \"approxcimate population\": \"8,398,748 (2019)\",\n",
    "        \"fact\": \"New York City Is The Largest City Of United States\"\n",
    "    }                    \n",
    "      # population and  one fact of Newyork--->\n",
    "}\n",
    "print(cities)\n",
    "#Assignment4 Q.2 information about cities fact and population of  Diffrent Countries of Cities---end-----Here--->"
   ]
  },
  {
   "cell_type": "code",
   "execution_count": 4,
   "metadata": {},
   "outputs": [
    {
     "name": "stdout",
     "output_type": "stream",
     "text": [
      "mybook\n",
      "  One of my Favourtie book is alice wonderland\n"
     ]
    }
   ],
   "source": [
    "#Assignment 4 Q.3 my favorite book------start here---->\n",
    "\n",
    "def favorite_book(title,message):\n",
    "    complete_name = title + \" \" + message\n",
    "    print(complete_name)\n",
    "    \n",
    "favorite_book(title = \"mybook\\n\", message = \" One of my Favourtie book is alice wonderland\")\n",
    "\n",
    "#Assignment 4 Q.3 my favorite book------start here---->"
   ]
  },
  {
   "cell_type": "code",
   "execution_count": 5,
   "metadata": {},
   "outputs": [
    {
     "name": "stdout",
     "output_type": "stream",
     "text": [
      "Welcom Nueplex cinema theater\n",
      "Enter The Number Of Person :1\n",
      "Enter The Age Of Person :3\n",
      "Your Ticket Is Free Have Fun\n"
     ]
    }
   ],
   "source": [
    "# Assignmnet4. Q.4 ticket ammount if the person  age 3 the ticket is free otherwise we will charge--->\n",
    "print(\"Welcom Nueplex cinema theater\")\n",
    "persons = int (input(\"Enter The Number Of Person :\"))\n",
    "\n",
    "total_price = 0 \n",
    "\n",
    "for i in range(1,persons + 1):\n",
    "    age = int(input(\"Enter The Age Of Person :\"))\n",
    "    if age <= 3:\n",
    "        print(\"Your Ticket Is Free Have Fun\")\n",
    "    elif age <= 12 :\n",
    "        print(\"Your Ticket Fee Is $10\")\n",
    "        total_price += 10\n",
    "    else: \n",
    "        print(\"Your Ticket Price  Will Be $15\")\n",
    "        total_price += 15\n",
    "        \n",
    "        print(\"Total Ammount = \",total_price,\"$ Enjoye Your Movie\")\n",
    "    \n",
    "# Assignmnet4. Q.4 ticket ammount if the person  age 3 the ticket is free otherwise we will charge--->"
   ]
  },
  {
   "cell_type": "code",
   "execution_count": 6,
   "metadata": {},
   "outputs": [
    {
     "name": "stdout",
     "output_type": "stream",
     "text": [
      "Guess a Number9\n",
      "Too High\n",
      "Guess a Number8\n",
      "You Got It The Correct Number\n",
      "Number Of Tries: 2\n"
     ]
    }
   ],
   "source": [
    "# Assignmnet4.Q.5 number guessing games with loops----start here---->\n",
    "\n",
    "import random \n",
    "secret = random.randrange(1,30)\n",
    "\n",
    "guess = 0\n",
    "tries = 0\n",
    "\n",
    "while guess != secret:\n",
    "    guess = int(input(\"Guess a Number\"))\n",
    "    tries = tries + 1\n",
    "    if guess > secret:\n",
    "        print(\"Too High\")\n",
    "    elif guess < secret :\n",
    "        print(\"Too Low\")\n",
    "    else :\n",
    "        print (\"You Got It The Correct Number\")\n",
    "        \n",
    "print(\"Number Of Tries:\",tries)\n",
    "\n",
    "# Assignmnet4.Q.5 number guessing games with loops---end here----->"
   ]
  },
  {
   "cell_type": "code",
   "execution_count": null,
   "metadata": {},
   "outputs": [],
   "source": []
  }
 ],
 "metadata": {
  "kernelspec": {
   "display_name": "Python 3",
   "language": "python",
   "name": "python3"
  },
  "language_info": {
   "codemirror_mode": {
    "name": "ipython",
    "version": 3
   },
   "file_extension": ".py",
   "mimetype": "text/x-python",
   "name": "python",
   "nbconvert_exporter": "python",
   "pygments_lexer": "ipython3",
   "version": "3.7.4"
  }
 },
 "nbformat": 4,
 "nbformat_minor": 2
}
