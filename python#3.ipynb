{
 "cells": [
  {
   "cell_type": "code",
   "execution_count": 1,
   "metadata": {},
   "outputs": [
    {
     "name": "stdout",
     "output_type": "stream",
     "text": [
      "Enter Your First Value34\n",
      "Enter Your Second Value54\n",
      "Enter Operator+\n",
      "88 Answer\n"
     ]
    }
   ],
   "source": [
    "# Calculator-----Coding----is here--->\n",
    "\n",
    "val1 = int(input(\"Enter Your First Value\"))\n",
    "val2 = int(input(\"Enter Your Second Value\"))\n",
    "operator = input(\"Enter Operator\")\n",
    "\n",
    "if operator == \"+\":\n",
    "    val = val1 + val2\n",
    "    print(val,\"Answer\")\n",
    "elif operator == \"-\":\n",
    "    val = val1 - val2\n",
    "    print(val,\"Answer\")\n",
    "\n",
    "elif operator == \"*\":\n",
    "    val = val1 * val2\n",
    "    print(val,\"Answer\")\n",
    "\n",
    "elif operator == \"/\":\n",
    "    val = val1 / val2\n",
    "    print(val,\"Answer\")\n",
    "\n",
    "elif operator == \"**\":\n",
    "    val = val1 ** val2\n",
    "    print(val,\"Answer\")\n",
    "    \n",
    "    \n",
    "elif operator == \"%\":\n",
    "    val = val1 % val2\n",
    "    print(val,\"Answer\")\n",
    "    \n",
    "else:\n",
    "    print(\"please insert right operator\")\n",
    "    \n",
    "#------Calculator----Coding-----is----End----->"
   ]
  },
  {
   "cell_type": "code",
   "execution_count": 8,
   "metadata": {},
   "outputs": [
    {
     "name": "stdout",
     "output_type": "stream",
     "text": [
      "{'ep-id': '1001', 'name': 'jason', 'last_name': 'smith', 'address': 'newyork,brooklyn', 'salary': '$1000'}\n",
      "{'ep-id': '1003', 'name': 'jake', 'last_name': 'jonathan', 'address': 'teaxs'}\n"
     ]
    }
   ],
   "source": [
    "#-----Dictionary----Key---Adding----Start---->\n",
    "\n",
    "employee = {\n",
    "    \"ep-id\": \"1001\",\n",
    "    \"name\":\"jason\",\n",
    "    \"last_name\":\"smith\",\n",
    "    \"address\":\"newyork,brooklyn\"\n",
    "}\n",
    "employee [\"salary\"] = \"$1000\"\n",
    "print(employee)\n",
    "#-----Dictionary----Key---Adding----End---->\n",
    "#.//////////////////////////////////////////\n",
    "#----In----Dictionary----We---Can-Add--Multi----Data---Of--Employee-like---Sheet--Start--->\n",
    "employee_01 = {\n",
    "    \"ep-id\": \"1001\",\n",
    "    \"name\":\"jason\",\n",
    "    \"last_name\":\"smith\",\n",
    "    \"address\":\"newyork,brooklyn\"\n",
    "}\n",
    "\n",
    "employee_02 = {\n",
    "    \"ep-id\": \"1002\",\n",
    "    \"name\":\"harris\",\n",
    "    \"last_name\":\"tom\",\n",
    "    \"address\":\"chicago\"\n",
    "}\n",
    "\n",
    "employee_03 = {\n",
    "    \"ep-id\": \"1003\",\n",
    "    \"name\":\"jake\",\n",
    "    \"last_name\":\"jonathan\",\n",
    "    \"address\":\"teaxs\"\n",
    "}\n",
    "print(employee_03)\n",
    "#----In----Dictionary----We---Can-Add--Multi----Data---Of--Employee-like---Sheet--Start--->"
   ]
  },
  {
   "cell_type": "code",
   "execution_count": 9,
   "metadata": {},
   "outputs": [
    {
     "name": "stdout",
     "output_type": "stream",
     "text": [
      "{'A': 30, 'B': 55, 'C': 62, 'D': 21, 'E': 19}\n",
      "Total Attendance 187\n"
     ]
    }
   ],
   "source": [
    "#---Dictionary---sun--of ---All Items--Start--->\n",
    "\n",
    "details = {\"A\":30,\"B\":55,\"C\":62,\"D\":21,\"E\":19,}\n",
    "print(details)\n",
    "tot =sum(details.values())\n",
    "print(\"Total Attendance\",tot)\n",
    "\n",
    "#---Dicitionary---sum----of---All---Items----End--->"
   ]
  },
  {
   "cell_type": "code",
   "execution_count": 10,
   "metadata": {},
   "outputs": [
    {
     "name": "stdout",
     "output_type": "stream",
     "text": [
      "30 is a numeric value\n",
      "45 is a numeric value\n",
      "50 is a numeric value\n"
     ]
    }
   ],
   "source": [
    "#---checking--Numeirc---Value--- If--any--numeric---so---print---star-->\n",
    "\n",
    "check =['aamir',\"waqas\",30,45,True,50,'a']\n",
    "for i in check:\n",
    "    if type(i) == int :\n",
    "        print(i,\"is a numeric value\")\n",
    "    elif type (i) == float:\n",
    "        print(i,\"is a numeric value\")\n",
    "        \n",
    "#---checking--Numeirc---Value--- If--any--numeric---so---print---star-->"
   ]
  },
  {
   "cell_type": "code",
   "execution_count": 11,
   "metadata": {},
   "outputs": [
    {
     "name": "stdout",
     "output_type": "stream",
     "text": [
      "Enter The Key To Be Verified:junaid\n",
      "Key is Persent In The Dictionary\n",
      "Value : 447\n"
     ]
    }
   ],
   "source": [
    "#Dictionary-----key is already Exiest in Dic---Start coding---->\n",
    "\n",
    "dic = {\"waqas\":445,\"kamran\": 446,\"junaid\":447,\"talha\":448}\n",
    "user = input(\"Enter The Key To Be Verified:\")\n",
    "if user in dic.keys():\n",
    "    print(\"Key is Persent In The Dictionary\")\n",
    "    print(\"Value\", \":\",dic[user])\n",
    "else:\n",
    "    print(\"Key Dosenot persent in the Dictionary\")\n",
    "    \n",
    "#Dictionary-----key is already Exiest in Dic---end coding---->"
   ]
  },
  {
   "cell_type": "code",
   "execution_count": 7,
   "metadata": {},
   "outputs": [
    {
     "name": "stdout",
     "output_type": "stream",
     "text": [
      "Repeated items in list are [3]\n",
      "Repeated items in list are [3, 5]\n"
     ]
    }
   ],
   "source": [
    "#----find--repeated---num---in--list---print---strat-->\n",
    "\n",
    "arr = [1,2,3,4,5,6,5,3]\n",
    "list1 = len(arr)\n",
    "repeated = []\n",
    "for i in range(list1):\n",
    "    a = i + 1\n",
    "    for b in range(a,list1):\n",
    "        if arr [i] == arr[b]and arr[i]not in repeated:\n",
    "            repeated.append(arr[i])\n",
    "            print(\"Repeated items in list are\",repeated)\n",
    "            \n",
    "#----find---repeated----num--in--a--list-- print---the--coding---is---end--here---->"
   ]
  },
  {
   "cell_type": "code",
   "execution_count": null,
   "metadata": {},
   "outputs": [],
   "source": []
  }
 ],
 "metadata": {
  "kernelspec": {
   "display_name": "Python 3",
   "language": "python",
   "name": "python3"
  },
  "language_info": {
   "codemirror_mode": {
    "name": "ipython",
    "version": 3
   },
   "file_extension": ".py",
   "mimetype": "text/x-python",
   "name": "python",
   "nbconvert_exporter": "python",
   "pygments_lexer": "ipython3",
   "version": "3.7.4"
  }
 },
 "nbformat": 4,
 "nbformat_minor": 2
}
