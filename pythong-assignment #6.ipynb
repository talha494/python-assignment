{
 "cells": [
  {
   "cell_type": "markdown",
   "metadata": {},
   "source": [
    "### Ans. 1\n",
    "\n",
    "#### Object Oriented Programming Langauge :\n",
    "\n",
    "object Oriented Programming Langauge (OOP) Is a  Programming language  Model in Which Programs Are\n",
    "Organized Around Data Or Objects, Rather Than Functions And Logic. An Objects  Can Be Defiend As A   Data.Field that Has Unique Attributes And Behavior."
   ]
  },
  {
   "cell_type": "code",
   "execution_count": 8,
   "metadata": {},
   "outputs": [
    {
     "name": "stdout",
     "output_type": "stream",
     "text": [
      "\n",
      "Car Name : suzuki alto\n",
      "\n",
      "Car Model : 2011\n",
      "\n",
      "Car Color : balck\n",
      "\n",
      "Car Milage : 3km- 1ltr\n",
      "\n",
      "Car Price : Rs.500000\n"
     ]
    }
   ],
   "source": [
    "#----Q5.A-------Class----wirte a python programe----------and create 5 Attributes----and----3 methond\n",
    "class car():\n",
    "    def __init__(self,name,model,color,mailage,price):\n",
    "        self.name = name\n",
    "        self.model = model\n",
    "        self.color = color\n",
    "        self.mailage = mailage\n",
    "        self.price =  price\n",
    "        \n",
    "cars = car('suzuki alto','2011','balck','3km- 1ltr','Rs.500000')\n",
    "print('\\nCar Name :',cars.name)\n",
    "print('\\nCar Model :',cars.model)\n",
    "print('\\nCar Color :',cars.color)\n",
    "print('\\nCar Milage :',cars.mailage)\n",
    "print('\\nCar Price :',cars.price)\n",
    "#----------Coding---------is-----end----------HEre------------>\n"
   ]
  },
  {
   "cell_type": "markdown",
   "metadata": {},
   "source": [
    "### Ans. 2\n",
    "\n",
    "### The Benifits Of (OOP):\n",
    " \n",
    ".Modularity For Easier Troubleshooting. Something Has Gone Wrong And You Have No Idea Where To Look..\n",
    "\n",
    ".Reuse Of Code through Inheritance....\n",
    "\n",
    ".Flexibility Through Polymorphism....\n",
    "\n",
    ".Effecting Problems Solving......"
   ]
  },
  {
   "cell_type": "markdown",
   "metadata": {},
   "source": [
    "### Ans.3\n",
    "\n",
    "###                                      Functions And Method :\n",
    "\n",
    "Function And Donot Have Any Refrence Variable  1Method Are  Called by Refrence Variable\n",
    "\n",
    "All Data That Is Passed To a Funciton Is Explicity Passed 2it Emplicity\n",
    "Passed The Object  For Which It Was Called.\n",
    "\n",
    "It Does Not Have Acess-controlling 3it  Controlling Function Applies To Both Object Oriented  And Non-Object Oriented Language  (Procedural Language e.g C scripiting Language eg. JavaScript etc.)\n",
    "4Method Is Only Applicable To Object Programming Language Like C++ C# Java Etc.\n"
   ]
  },
  {
   "cell_type": "markdown",
   "metadata": {},
   "source": [
    "### Ans.4\n",
    "\n",
    "### Class :-\n",
    "\n",
    "Classes(OOP) In Object-Oriented Programming, a Class Is a Blueprint For Creating Objects(a Paricular Data Structure), Providing Intial Values For  State (Member Variables Or Attributes), And Implemnetations Of Behavior (Member Functions Or Methods).The User-Defined Objects Are Created Using The Class Keyword.\n",
    "\n",
    "\n",
    "### Object:-\n",
    "\n",
    "An Object, In Object-Oriented Programming(OOP),Is An Abstract Data Type Created By A Developer. It Can Include\n",
    "Multiple Properties And methods And May Even Contain Other Objects.In Most Programming Language Objects Are Defined As Classes.\n",
    "\n",
    "\n",
    "### Attributes :-\n",
    "\n",
    "An Attribute Is A Specification That Defines A Property Of An Object, Elemnet, Or File. It May Also Refer To Or Set The Specific Value For A Given Instance Of Such.For Clarity.\n",
    "Attributes Should More Correctly Be Considered Metadata.\n",
    "\n",
    "\n",
    "### Behavior :-\n",
    "\n",
    "A Class's Behavior Determines How An Instance Of That Class Operates; For Example, How It Will \"React\" If Asked To Do Something By Another CLass Or Object Or if Its Internal State Changes. Behavior Is The Only Way Objects Can Do Anything Done TO Them."
   ]
  },
  {
   "cell_type": "code",
   "execution_count": null,
   "metadata": {},
   "outputs": [],
   "source": []
  }
 ],
 "metadata": {
  "kernelspec": {
   "display_name": "Python 3",
   "language": "python",
   "name": "python3"
  },
  "language_info": {
   "codemirror_mode": {
    "name": "ipython",
    "version": 3
   },
   "file_extension": ".py",
   "mimetype": "text/x-python",
   "name": "python",
   "nbconvert_exporter": "python",
   "pygments_lexer": "ipython3",
   "version": "3.7.4"
  }
 },
 "nbformat": 4,
 "nbformat_minor": 2
}
