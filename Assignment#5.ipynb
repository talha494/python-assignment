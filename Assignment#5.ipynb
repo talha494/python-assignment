{
 "cells": [
  {
   "cell_type": "code",
   "execution_count": 11,
   "metadata": {},
   "outputs": [
    {
     "name": "stdout",
     "output_type": "stream",
     "text": [
      "Input a number to compute the factiorial : 5\n",
      "120\n"
     ]
    }
   ],
   "source": [
    "def factorial(n):\n",
    "    if n == 0:\n",
    "        return 1\n",
    "    else:\n",
    "        return n * factorial(n-1)\n",
    "n=int(input(\"Input a number to compute the factiorial : \"))\n",
    "print(factorial(n))"
   ]
  },
  {
   "cell_type": "code",
   "execution_count": 2,
   "metadata": {},
   "outputs": [
    {
     "name": "stdout",
     "output_type": "stream",
     "text": [
      "False\n"
     ]
    }
   ],
   "source": [
    "def check_prime(n):\n",
    "    if (n==1):\n",
    "        return False\n",
    "    elif (n==2):\n",
    "        return True;\n",
    "    else:\n",
    "        for x in range(2,n):\n",
    "            if(n % x==0):\n",
    "                return False\n",
    "        return True             \n",
    "print(check_prime(10))\n"
   ]
  },
  {
   "cell_type": "code",
   "execution_count": 5,
   "metadata": {},
   "outputs": [
    {
     "name": "stdout",
     "output_type": "stream",
     "text": [
      "Original String :  The quick Brown Fox\n",
      "No. of Upper case characters :  3\n",
      "No. of Lower case Characters :  13\n"
     ]
    }
   ],
   "source": [
    "def string_test(s):\n",
    "    d={\"UPPER_CASE\":0, \"LOWER_CASE\":0}\n",
    "    for c in s:\n",
    "        if c.isupper():\n",
    "           d[\"UPPER_CASE\"]+=1\n",
    "        elif c.islower():\n",
    "           d[\"LOWER_CASE\"]+=1\n",
    "        else:\n",
    "           pass\n",
    "    print (\"Original String : \", s)\n",
    "    print (\"No. of Upper case characters : \", d[\"UPPER_CASE\"])\n",
    "    print (\"No. of Lower case Characters : \", d[\"LOWER_CASE\"])\n",
    "\n",
    "string_test('The quick Brown Fox')"
   ]
  },
  {
   "cell_type": "code",
   "execution_count": 6,
   "metadata": {},
   "outputs": [
    {
     "name": "stdout",
     "output_type": "stream",
     "text": [
      "Welocme To HUMMART\n",
      "\n",
      "--------------------\n",
      "  SHOPPING GROCERY  \n",
      "--------------------\n",
      " \n",
      "Serial No:003233\n",
      "\n",
      "$.34  Banana\n",
      "$.40  Milk\n",
      "$.67  Chocolate \n",
      "$.20  Cookies\n",
      "$.36  Drink\n",
      "You Bought These Items :\n",
      "\n",
      "Milk \n",
      "Banana\n",
      "Chocolate\n",
      "Dirnk\n",
      "Cookies\n",
      "\n",
      "Your  Total Amount Is:$.197\n",
      "\n",
      "                            THANKS FOR SHOPPING COME AGAIN\n"
     ]
    }
   ],
   "source": [
    "print('Welocme To HUMMART\\n')\n",
    "\n",
    "print(\"--------------------\\n  SHOPPING GROCERY  \\n--------------------\\n \")\n",
    "print('Serial No:003233\\n')\n",
    "print(\"$.34  Banana\")\n",
    "print('$.40  Milk')\n",
    "print('$.67  Chocolate ')\n",
    "print('$.20  Cookies')\n",
    "print('$.36  Drink')\n",
    "#----------------------coding-----Start----is----Here----->\n",
    "\n",
    "def func(shopping,total,*prod):\n",
    "    print('You Bought These Items :\\n'+ shopping + \" \" + total)\n",
    "    for item in prod : \n",
    "        print(item)\n",
    "        \n",
    "func('\\nMilk','\\nBanana','Chocolate','Dirnk','Cookies')\n",
    "print('\\nYour  Total Amount Is:$.197\\n')\n",
    "\n",
    "print('                            THANKS FOR SHOPPING COME AGAIN')\n",
    "#----------------------coding---------End---is---Here----->"
   ]
  },
  {
   "cell_type": "code",
   "execution_count": 7,
   "metadata": {},
   "outputs": [
    {
     "name": "stdout",
     "output_type": "stream",
     "text": [
      "10 4 66 "
     ]
    }
   ],
   "source": [
    "# Python program to print Even Numbers in a List \n",
    "  \n",
    "# list of numbers \n",
    "list1 = [10, 21, 4, 45, 66, 93] \n",
    "  \n",
    "# iterating each number in list \n",
    "for num in list1: \n",
    "      \n",
    "    # checking condition \n",
    "    if num % 2 == 0:\n",
    "        print(num, end = \" \")"
   ]
  },
  {
   "cell_type": "code",
   "execution_count": 9,
   "metadata": {},
   "outputs": [
    {
     "name": "stdout",
     "output_type": "stream",
     "text": [
      "Enter a StringMadam\n",
      "String : Madam\n",
      "Reverse: madaM\n",
      "it is Not a palindrome\n"
     ]
    }
   ],
   "source": [
    "def ispalindrome(st):\n",
    "    rev=st[::-1]\n",
    "    print('String :',st)\n",
    "    print('Reverse:',rev)\n",
    "    if (st==rev):\n",
    "        return True\n",
    "    else:\n",
    "        return False\n",
    "    \n",
    "x = input('Enter a String')\n",
    "if ispalindrome(x):\n",
    "    print(\"It is a palindrome\")\n",
    "else:\n",
    "    print(\"it is Not a palindrome\")"
   ]
  },
  {
   "cell_type": "code",
   "execution_count": null,
   "metadata": {},
   "outputs": [],
   "source": []
  },
  {
   "cell_type": "code",
   "execution_count": null,
   "metadata": {},
   "outputs": [],
   "source": []
  }
 ],
 "metadata": {
  "kernelspec": {
   "display_name": "Python 3",
   "language": "python",
   "name": "python3"
  },
  "language_info": {
   "codemirror_mode": {
    "name": "ipython",
    "version": 3
   },
   "file_extension": ".py",
   "mimetype": "text/x-python",
   "name": "python",
   "nbconvert_exporter": "python",
   "pygments_lexer": "ipython3",
   "version": "3.7.4"
  }
 },
 "nbformat": 4,
 "nbformat_minor": 2
}
