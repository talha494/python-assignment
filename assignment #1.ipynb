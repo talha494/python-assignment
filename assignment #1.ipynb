{
 "cells": [
  {
   "cell_type": "code",
   "execution_count": 2,
   "metadata": {},
   "outputs": [
    {
     "name": "stdout",
     "output_type": "stream",
     "text": [
      "Enter radius of a circle4.5\n",
      "Area of Cricle 63.585\n"
     ]
    }
   ],
   "source": [
    "#The Radius Of Circle From The user and Compute The Area\n",
    "\n",
    "r= float(input(\"Enter radius of a circle\"))\n",
    "area= 3.14*r*r\n",
    "print(\"Area of Cricle\",area)"
   ]
  },
  {
   "cell_type": "code",
   "execution_count": 6,
   "metadata": {},
   "outputs": [
    {
     "name": "stdout",
     "output_type": "stream",
     "text": [
      "Twinkle,Twinkle,   little Star\n",
      "        How i Wonder, what your are!\n",
      "up above the,wolrd so high\n",
      "\n",
      "       Twinkle,Twinkle  little star\n",
      "How i Wonder What Your Are\n"
     ]
    }
   ],
   "source": [
    "#Following Strings in a Specific Format\n",
    "\n",
    "line_1 = \"Twinkle,Twinkle,   little Star\"\n",
    "print(line_1)\n",
    "line_2 = \"        How i Wonder, what your are!\"\n",
    "print(line_2)\n",
    "line_3 =  \"up above the,wolrd so high\\n\"\n",
    "print(line_3)\n",
    "line_4 =  \"       Twinkle,Twinkle  little star\"\n",
    "print(line_4)\n",
    "line_5  = \"How i Wonder What Your Are\"\n",
    "print(line_5)"
   ]
  },
  {
   "cell_type": "code",
   "execution_count": 22,
   "metadata": {},
   "outputs": [
    {
     "name": "stdout",
     "output_type": "stream",
     "text": [
      "hello\n",
      "Niazi Talha Khan\n"
     ]
    }
   ],
   "source": [
    "#Python Program Which Accept  The Users First And Last Name and print \n",
    "\n",
    "first_name = \"Talha Khan\"\n",
    "last_name = \"Niazi\"\n",
    "print(\"hello\")\n",
    "print( last_name + \" \" + first_name)"
   ]
  },
  {
   "cell_type": "code",
   "execution_count": 25,
   "metadata": {},
   "outputs": [
    {
     "name": "stdout",
     "output_type": "stream",
     "text": [
      " python version\n",
      " 3.7.4 (default, Aug  9 2019, 18:34:13) [MSC v.1915 64 bit (AMD64)]\n"
     ]
    }
   ],
   "source": [
    "# Python Program Get The Version Of Python Which I Using\n",
    "\n",
    "import sys\n",
    "system =\" python version\\n\"\n",
    "versionInfo = \"version Information\\n\"\n",
    "print(system, sys.version)"
   ]
  },
  {
   "cell_type": "code",
   "execution_count": 27,
   "metadata": {},
   "outputs": [
    {
     "name": "stdout",
     "output_type": "stream",
     "text": [
      "Enter your name\n",
      "talha\n",
      "thanks talha please fill 1 more\n",
      "Enter your  age23\n",
      "talha 23\n",
      "thank u for your confirmation\n"
     ]
    }
   ],
   "source": [
    "#Python Program Which Takes Two Inputs From Users !\n",
    "\n",
    "name = input(\"Enter your name\\n\")\n",
    "print(\"thanks talha please fill 1 more\")\n",
    "age = input(\"Enter your  age\")\n",
    "print(name,age)\n",
    "print(\"thank u for your confirmation\")"
   ]
  },
  {
   "cell_type": "code",
   "execution_count": 31,
   "metadata": {},
   "outputs": [
    {
     "name": "stdout",
     "output_type": "stream",
     "text": [
      "19-11-01 12:11:27\n"
     ]
    }
   ],
   "source": [
    "#Python Program Which i Display Current Date Time.\n",
    "\n",
    "import datetime\n",
    "now = datetime.datetime.now()\n",
    "print(now.strftime(\"%y-%m-%d %H:%M:%S\"))"
   ]
  },
  {
   "cell_type": "code",
   "execution_count": null,
   "metadata": {},
   "outputs": [],
   "source": []
  }
 ],
 "metadata": {
  "kernelspec": {
   "display_name": "Python 3",
   "language": "python",
   "name": "python3"
  },
  "language_info": {
   "codemirror_mode": {
    "name": "ipython",
    "version": 3
   },
   "file_extension": ".py",
   "mimetype": "text/x-python",
   "name": "python",
   "nbconvert_exporter": "python",
   "pygments_lexer": "ipython3",
   "version": "3.7.4"
  }
 },
 "nbformat": 4,
 "nbformat_minor": 2
}
