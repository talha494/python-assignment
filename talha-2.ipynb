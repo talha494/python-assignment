{
 "cells": [
  {
   "cell_type": "code",
   "execution_count": 1,
   "metadata": {},
   "outputs": [
    {
     "name": "stdout",
     "output_type": "stream",
     "text": [
      "SERIAL NO: 035322\n",
      "                                        BOARD OF SECONDARY EDUCATION KARACHI\n",
      "\n",
      "                                                 S.S.C. PART 1 EXAMINATION\n",
      "ANNUAL 2014\n",
      "SCHOOL\\PRIVATE                                    STATEMENT OF MARKSHEET\n",
      "\n",
      "LITTLE ANGLE ENNGLISH GRAMMER SCHOOL\n",
      "\n",
      "ROLL NUMBER: 24432\n",
      "STUDENT NAME: TALHA KHAN NAIZI\n",
      "FATHER NAME: BAHADUR KHAN NAIZI\n",
      "                                                      SUBJECTS                               MARKS\n",
      "\n",
      "                         ENGLISH                                                             92/100\n",
      "                         URDU                                                                67/100\n",
      "                         Math                                                                56/100\n",
      "                         PAK_STUDIES                                                         54/100\n",
      "                         ISLAMIAT                                                            71/100\n",
      "\n",
      "Please Enter Your Roll Number\n",
      "23442\n",
      "Enter Your Nametalha\n",
      "Enter Your English Marks :92\n",
      "Enter Your Urdu Marks :67\n",
      "Enter Your Islamiat Marks :56\n",
      "Enter Your Pak_Studies Marks :54\n",
      "Enter Your Math Marks :71\n",
      "GRADE C\n",
      "Your Roll  Number :  23442\n",
      "Your Name : talha\n",
      "Your Total Marks is : 340\n",
      "And Your Percentage is% 68.0\n"
     ]
    }
   ],
   "source": [
    "# mark sheet ------>\n",
    "print(\"SERIAL NO: 035322\")\n",
    "print(\"                                        BOARD OF SECONDARY EDUCATION KARACHI\\n\")\n",
    "print(\"                                                 S.S.C. PART 1 EXAMINATION\")\n",
    "print(\"ANNUAL 2014\")\n",
    "print(\"SCHOOL\\PRIVATE                                    STATEMENT OF MARKSHEET\\n\")\n",
    "print(\"LITTLE ANGLE ENNGLISH GRAMMER SCHOOL\\n\")\n",
    "print(\"ROLL NUMBER: 24432\")\n",
    "print(\"STUDENT NAME: TALHA KHAN NAIZI\")\n",
    "print(\"FATHER NAME: BAHADUR KHAN NAIZI\")\n",
    "print(\"                                                      SUBJECTS                               MARKS\\n\") \n",
    "print(\"                         ENGLISH                                                             92/100\")\n",
    "print(\"                         URDU                                                                67/100\")\n",
    "print(\"                         Math                                                                56/100\")\n",
    "print(\"                         PAK_STUDIES                                                         54/100\")\n",
    "print(\"                         ISLAMIAT                                                            71/100\\n\")\n",
    "# mark sheet ------>\n",
    "\n",
    "#coding is start here----->\n",
    "roll = int(input(\"Please Enter Your Roll Number\\n\"))\n",
    "\n",
    "name = input(\"Enter Your Name\")\n",
    "english = int(input(\"Enter Your English Marks :\"))\n",
    "urdu = int(input(\"Enter Your Urdu Marks :\"))\n",
    "islamiat = int(input(\"Enter Your Islamiat Marks :\"))\n",
    "pak_studies = int(input(\"Enter Your Pak_Studies Marks :\"))\n",
    "mathmetics = int(input(\"Enter Your Math Marks :\"))\n",
    "total = english+urdu+islamiat+pak_studies+mathmetics\n",
    "per = total*100/500\n",
    "if per >= 90 and per < 100 :\n",
    "    print(\"GRADE A+\")\n",
    "elif per >= 80 and per < 90 :\n",
    "    print(\"GRADE A\")\n",
    "elif per >= 70 and per < 80 :\n",
    "    print(\"GRADE B\")\n",
    "elif per >= 60 and per < 70 :\n",
    "    print(\"GRADE C\")\n",
    "elif per >= 50 and per < 60 :\n",
    "    print(\"GRADE D\")\n",
    "elif per >= 40 and per < 50 :\n",
    "    print(\"GRADE E\")\n",
    "elif per >= 35 and per < 40 :\n",
    "    print(\" SORRY TO SAY  YOU Failed\")\n",
    "else:\n",
    "    print(\"Inappropriate\")\n",
    "    \n",
    "print(\"Your Roll  Number : \",roll)\n",
    "print( \"Your Name :\",name)\n",
    "print(\"Your Total Marks is :\", total)\n",
    "print(\"And Your Percentage is%\",per)\n",
    "#conding is end----->"
   ]
  },
  {
   "cell_type": "code",
   "execution_count": 1,
   "metadata": {},
   "outputs": [
    {
     "name": "stdout",
     "output_type": "stream",
     "text": [
      "ENTER YOUR NUMBER3\n",
      "3 is odd\n"
     ]
    }
   ],
   "source": [
    "#even and odd ---->\n",
    "\n",
    "num = int(input(\"ENTER YOUR NUMBER\"))\n",
    "if num %2==0:\n",
    "    print(num,\"is even\")\n",
    "else:\n",
    "    print(num,\"is odd\")\n",
    "\n",
    "#even and odd ---->"
   ]
  },
  {
   "cell_type": "code",
   "execution_count": 2,
   "metadata": {},
   "outputs": [
    {
     "name": "stdout",
     "output_type": "stream",
     "text": [
      "144\n"
     ]
    }
   ],
   "source": [
    "# sum of the list-->\n",
    "\n",
    "list_1 = [1,4,8,9,34,88]\n",
    "total = sum (list_1)\n",
    "print(total)\n",
    "\n",
    "# sum of the list-->\n"
   ]
  },
  {
   "cell_type": "code",
   "execution_count": 4,
   "metadata": {},
   "outputs": [
    {
     "name": "stdout",
     "output_type": "stream",
     "text": [
      "178\n",
      "12\n"
     ]
    }
   ],
   "source": [
    "#lagerst numaric number--->\n",
    "\n",
    "num1 = [12,34,56,90,45,178]\n",
    "print(max(num1))\n",
    "#smallest numeric number --->\n",
    "print(min(num1))\n",
    "#lagerst numaric number--->"
   ]
  },
  {
   "cell_type": "code",
   "execution_count": 5,
   "metadata": {},
   "outputs": [
    {
     "name": "stdout",
     "output_type": "stream",
     "text": [
      "[1]\n",
      "[1, 1]\n",
      "[1, 1, 2]\n",
      "[1, 1, 2, 3]\n",
      "[1, 1, 2, 3, 3]\n"
     ]
    }
   ],
   "source": [
    "#Q.6 answer\n",
    "a = [1,1,2,3,5,8,3,21,34,55,89]\n",
    "x =[]\n",
    "for i in a :\n",
    "    if i < 5:\n",
    "        x.append(i)\n",
    "        print(x)"
   ]
  },
  {
   "cell_type": "code",
   "execution_count": null,
   "metadata": {},
   "outputs": [],
   "source": []
  }
 ],
 "metadata": {
  "kernelspec": {
   "display_name": "Python 3",
   "language": "python",
   "name": "python3"
  },
  "language_info": {
   "codemirror_mode": {
    "name": "ipython",
    "version": 3
   },
   "file_extension": ".py",
   "mimetype": "text/x-python",
   "name": "python",
   "nbconvert_exporter": "python",
   "pygments_lexer": "ipython3",
   "version": "3.7.4"
  }
 },
 "nbformat": 4,
 "nbformat_minor": 2
}
